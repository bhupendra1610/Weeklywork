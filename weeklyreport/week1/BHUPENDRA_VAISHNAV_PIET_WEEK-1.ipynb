{
 "cells": [
  {
   "cell_type": "code",
   "execution_count": 0,
   "metadata": {
    "application/vnd.databricks.v1+cell": {
     "cellMetadata": {
      "byteLimit": 2048000,
      "rowLimit": 10000
     },
     "inputWidgets": {},
     "nuid": "7ffe7b4f-66e2-46ca-8b40-b91604839121",
     "showTitle": true,
     "title": "DAY-1"
    }
   },
   "outputs": [
    {
     "output_type": "display_data",
     "data": {
      "text/plain": [
       " JhonDipPeta"
      ]
     },
     "metadata": {},
     "output_type": "display_data"
    },
    {
     "output_type": "stream",
     "name": "stdout",
     "output_type": "stream",
     "text": [
      "Dip\n"
     ]
    }
   ],
   "source": [
    "#Day1\n",
    "#Program 1\n",
    "\n",
    "input_str = input() # take a string input from the user\n",
    "middle_index = len(input_str)//2 #index of the middle ele\n",
    "new_str = input_str[middle_index-1:middle_index+2] #the three elements of the string of odd length are middle element , middle element -1 and middle element+1\n",
    "print(new_str)  #resultant string"
   ]
  },
  {
   "cell_type": "code",
   "execution_count": 0,
   "metadata": {
    "application/vnd.databricks.v1+cell": {
     "cellMetadata": {
      "byteLimit": 2048000,
      "rowLimit": 10000
     },
     "inputWidgets": {},
     "nuid": "50f739fd-3273-4481-ae07-d5343aae609c",
     "showTitle": false,
     "title": ""
    }
   },
   "outputs": [
    {
     "output_type": "display_data",
     "data": {
      "text/plain": [
       " Auty"
      ]
     },
     "metadata": {},
     "output_type": "display_data"
    },
    {
     "output_type": "display_data",
     "data": {
      "text/plain": [
       " Kelly"
      ]
     },
     "metadata": {},
     "output_type": "display_data"
    },
    {
     "output_type": "stream",
     "name": "stdout",
     "output_type": "stream",
     "text": [
      "AuKellyty\n"
     ]
    }
   ],
   "source": [
    "#Program 2\n",
    "\n",
    "str_fst = input() # input string original\n",
    "str_sec  = input() # new string input\n",
    "middle_str_fst = len(str_fst)//2  # middle index of original string\n",
    "new_str = str_fst[:middle_str_fst] +str_sec[:]  + str_fst[middle_str_fst:]  # the appended string have before middle element + new string + remaining ele of the string \n",
    "print(new_str) # result\n"
   ]
  },
  {
   "cell_type": "code",
   "execution_count": 0,
   "metadata": {
    "application/vnd.databricks.v1+cell": {
     "cellMetadata": {
      "byteLimit": 2048000,
      "rowLimit": 10000
     },
     "inputWidgets": {},
     "nuid": "88e354c4-2e20-4be7-a860-f55230202315",
     "showTitle": false,
     "title": ""
    }
   },
   "outputs": [
    {
     "output_type": "display_data",
     "data": {
      "text/plain": [
       " BhUpEnDrA"
      ]
     },
     "metadata": {},
     "output_type": "display_data"
    },
    {
     "output_type": "stream",
     "name": "stdout",
     "output_type": "stream",
     "text": [
      "hpnrBUEDA\n"
     ]
    }
   ],
   "source": [
    "#Program 3\n",
    "\n",
    "\n",
    "input_str = input() #input string\n",
    "result_lst = []\n",
    "lower_lst = []  #list for lower characters in the string \n",
    "upper_lst = []    # list for upper characters in the string \n",
    "for ele in input_str:           \n",
    "    if ( ele == ele.lower()):     #condition for checking the lowercase letter\n",
    "        lower_lst.append(ele)      # appending the lowercase letter to lower list\n",
    "    if ( ele == ele.upper()):     #for uppercase letter\n",
    "        upper_lst.append(ele)     # appending the uppercase letter to upper list\n",
    "result_lst = lower_lst + upper_lst            #list concatenation of two list( upper and lower)     \n",
    "result_str = ''.join(result_lst)\n",
    "print(str(result_str))"
   ]
  },
  {
   "cell_type": "code",
   "execution_count": 0,
   "metadata": {
    "application/vnd.databricks.v1+cell": {
     "cellMetadata": {
      "byteLimit": 2048000,
      "rowLimit": 10000
     },
     "inputWidgets": {},
     "nuid": "be2672fc-40bc-4938-b882-8af121008708",
     "showTitle": false,
     "title": ""
    }
   },
   "outputs": [
    {
     "output_type": "display_data",
     "data": {
      "text/plain": [
       " Emma is a data scientist who knows Python. Emma works at Google."
      ]
     },
     "metadata": {},
     "output_type": "display_data"
    },
    {
     "output_type": "display_data",
     "data": {
      "text/plain": [
       " Emma"
      ]
     },
     "metadata": {},
     "output_type": "display_data"
    },
    {
     "output_type": "stream",
     "name": "stdout",
     "output_type": "stream",
     "text": [
      "Last occurence of the substring is: 43\n"
     ]
    }
   ],
   "source": [
    "#program 4\n",
    "\n",
    "\n",
    "input_str = input() #take input string\n",
    "substring = input() #searching the substring in the string \n",
    "index_substring = input_str.rfind(substring) #rfind to get the last position/index in a given string\n",
    "print(\"Last occurence of the substring is:\" ,index_substring) # resultant position"
   ]
  },
  {
   "cell_type": "code",
   "execution_count": 0,
   "metadata": {
    "application/vnd.databricks.v1+cell": {
     "cellMetadata": {
      "byteLimit": 2048000,
      "rowLimit": 10000
     },
     "inputWidgets": {},
     "nuid": "01c7f75e-ea59-46b4-92b8-84886f38701d",
     "showTitle": true,
     "title": "DAY-2"
    }
   },
   "outputs": [
    {
     "output_type": "display_data",
     "data": {
      "text/plain": [
       " 3 6 9 12 15 18 21"
      ]
     },
     "metadata": {},
     "output_type": "display_data"
    },
    {
     "output_type": "display_data",
     "data": {
      "text/plain": [
       " 4 8 12 16 20 24 28"
      ]
     },
     "metadata": {},
     "output_type": "display_data"
    },
    {
     "output_type": "stream",
     "name": "stdout",
     "output_type": "stream",
     "text": [
      "Element at odd-index positions from list one [6, 12, 18]\nElement at even-index positions from list one [4, 12, 20, 28]\nPrinting Final third list [6, 12, 18, 4, 12, 20, 28]\n"
     ]
    }
   ],
   "source": [
    "# Day 2\n",
    "# Program 1\n",
    "\n",
    "lst_fst= list(map(int,input().split())) #list one\n",
    "lst_sec= list(map(int,input().split())) # list two\n",
    "odd_lst = []  #Odd-position ele list\n",
    "even_lst = [] # even-position ele list\n",
    "for ele in range(len(lst_fst)):\n",
    "\tif ele %2 !=0 and ele !=0:  #condition for odd position element is the lst one\n",
    "\t\todd_lst.append(lst_fst[ele]) #adding the ele to the list one\n",
    "for ele in range(len(lst_sec)):\n",
    "\tif ele %2 ==0: #condition for even position element is the lst two\n",
    "\t\teven_lst.append(lst_sec[ele]) # adding the ele to the list two\n",
    "print('Element at odd-index positions from list one', odd_lst) # odd list element in list one\n",
    "\n",
    "print('Element at even-index positions from list one', even_lst)   #even list element in list two\n",
    "final_lst = odd_lst +even_lst  # concatenat in final list\n",
    "print('Printing Final third list',final_lst)\n"
   ]
  },
  {
   "cell_type": "code",
   "execution_count": 0,
   "metadata": {
    "application/vnd.databricks.v1+cell": {
     "cellMetadata": {
      "byteLimit": 2048000,
      "rowLimit": 10000
     },
     "inputWidgets": {},
     "nuid": "3858130e-e01a-49b2-bf90-44397cc2f842",
     "showTitle": false,
     "title": ""
    }
   },
   "outputs": [
    {
     "output_type": "display_data",
     "data": {
      "text/plain": [
       " 11 45 8 23 14 12 78 45 89"
      ]
     },
     "metadata": {},
     "output_type": "display_data"
    },
    {
     "output_type": "stream",
     "name": "stdout",
     "output_type": "stream",
     "text": [
      "Orginial list [11, 45, 8, 23, 14, 12, 78, 45, 89]\nchunk_lst 1 [11, 45, 8]\nAfter reversing it [8, 45, 11]\nchunk_lst 2 [23, 14, 12]\nAfter reversing it [12, 14, 23]\nchunk_lst 3 [78, 45, 89]\nAfter reversing it [89, 45, 78]\n"
     ]
    }
   ],
   "source": [
    "#Program 2\n",
    "\n",
    "input_lst= list(map(int,input().split())) #input list\n",
    "start=0   #starting index \n",
    "chunk_lst=[]  #list for chunk of three element in the input list\n",
    "chunk_count = 1         #chunk list counter\n",
    "print('Orginial list', input_lst)       # original list \n",
    "for ele in range(3,len(input_lst)+1,3):      \n",
    "\t\n",
    "\tchunk_lst= input_lst[start:ele]  #slicing of input list from start to ele (0,3) then gap of three at every time \n",
    "\t\n",
    "\tprint('chunk_lst',chunk_count, chunk_lst)  #chunk list \n",
    "\tchunk_count += 1        #increament the chunk_count by 1\n",
    "\tchunk_lst.reverse()           #reversing the chunk list\n",
    "\tprint('After reversing it',chunk_lst)          # after reversing chunk list\n",
    "\tstart =ele         #set start to ele "
   ]
  },
  {
   "cell_type": "code",
   "execution_count": 0,
   "metadata": {
    "application/vnd.databricks.v1+cell": {
     "cellMetadata": {
      "byteLimit": 2048000,
      "rowLimit": 10000
     },
     "inputWidgets": {},
     "nuid": "cb5f3521-ff0d-4f0b-b819-ab681bf252a6",
     "showTitle": false,
     "title": ""
    }
   },
   "outputs": [
    {
     "output_type": "display_data",
     "data": {
      "text/plain": [
       " 11 45 8 11 23 45 23 45 89"
      ]
     },
     "metadata": {},
     "output_type": "display_data"
    },
    {
     "output_type": "stream",
     "name": "stdout",
     "output_type": "stream",
     "text": [
      "Original list [11, 45, 8, 11, 23, 45, 23, 45, 89]\nPrinting count of each item {11: 2, 45: 3, 8: 1, 23: 2, 89: 1}\n"
     ]
    }
   ],
   "source": [
    "#Program 3\n",
    "\n",
    "\n",
    "input_lst = list(map(int,input().split())) # input list \n",
    "dictonary =  {}   #making a dictonary\n",
    "print('Original list', input_lst) #original input list \n",
    "for ele in input_lst:     \n",
    "    if ele in dictonary:    #checking the count of every element in the input list #if ele is already in dictonary then count the occurence of the ele\n",
    "        dictonary[ele] +=1\n",
    "    else:\n",
    "        dictonary[ele] = 1          #if ele not in dictonary then count =1 \n",
    "print('Printing count of each item',dictonary) #print dictonary"
   ]
  },
  {
   "cell_type": "code",
   "execution_count": 0,
   "metadata": {
    "application/vnd.databricks.v1+cell": {
     "cellMetadata": {
      "byteLimit": 2048000,
      "rowLimit": 10000
     },
     "inputWidgets": {},
     "nuid": "f72a4978-4d0c-41c4-950f-e0b21418f30b",
     "showTitle": false,
     "title": ""
    }
   },
   "outputs": [
    {
     "output_type": "stream",
     "name": "stdout",
     "output_type": "stream",
     "text": [
      "First Set  {57, 83, 29}\nSecond Set  {48, 67, 83, 73, 43, 29, 57}\nFirst set is subset of second set - True\nSecond set is subset of First set -  False\nFirst set is Super set of second set -  False\nSecond set is Super set of First set -  True\nFirst Set  set()\nSecond Set  {48, 67, 83, 73, 43, 29, 57}\n"
     ]
    }
   ],
   "source": [
    "#program 4\n",
    "\n",
    "\n",
    "firstSet = {57, 83, 29} #given set 1 \n",
    "secondSet = {57, 83, 29, 67, 73, 43, 48} #given set 2\n",
    "\n",
    "print(\"First Set \", firstSet)      #printing first set\n",
    "print(\"Second Set \", secondSet)     # printing second set\n",
    "\n",
    "print(\"First set is subset of second set -\", firstSet.issubset(secondSet))   #checking if first set is subset of second set\n",
    "print(\"Second set is subset of First set - \", secondSet.issubset(firstSet))  #checking if second set is subset of first set\n",
    "\n",
    "print(\"First set is Super set of second set - \", firstSet.issuperset(secondSet))      # checking if first set is superset of second set\n",
    "print(\"Second set is Super set of First set - \", secondSet.issuperset(firstSet))         # checking if second set is superset of first set\n",
    "\n",
    "if firstSet.issubset(secondSet):  #if first set is subset of second set then \n",
    "    firstSet.clear()          #clear the first set ( removing all element from first set)\n",
    "\n",
    "if secondSet.issubset(firstSet):      # if second set is subset of first set then\n",
    "    secondSet.clear()          # removing the element from the second set\n",
    "\n",
    "print(\"First Set \", firstSet)  # printing the first set\n",
    "print(\"Second Set \", secondSet) #printing the second set"
   ]
  },
  {
   "cell_type": "code",
   "execution_count": 0,
   "metadata": {
    "application/vnd.databricks.v1+cell": {
     "cellMetadata": {
      "byteLimit": 2048000,
      "rowLimit": 10000
     },
     "inputWidgets": {},
     "nuid": "63a90aae-3a7d-4459-9475-0712f07a0aaf",
     "showTitle": false,
     "title": ""
    }
   },
   "outputs": [
    {
     "output_type": "stream",
     "name": "stdout",
     "output_type": "stream",
     "text": [
      "[47, 52, 44, 53, 54]\n"
     ]
    }
   ],
   "source": [
    "#Program 5\n",
    "\n",
    "\n",
    "given_dictonary ={'jan':47 ,'feb':52, 'march':47 , 'April':44 , 'May':52 , 'June': 53, 'July': 54, 'Aug': 44, 'Sept':54}  #given dictonary with keys and values\n",
    "value_lst = []   #lst initialization\n",
    "for ele in given_dictonary:              \n",
    "    value_lst.append(given_dictonary[ele]) #additing the dictonary values to values list\n",
    "unique_values_lst = list(dict.fromkeys(value_lst))  #list that have unique element in same order that dictonary has\n",
    "print(unique_values_lst) # resulting list with unique element\n"
   ]
  },
  {
   "cell_type": "code",
   "execution_count": 0,
   "metadata": {
    "application/vnd.databricks.v1+cell": {
     "cellMetadata": {
      "byteLimit": 2048000,
      "rowLimit": 10000
     },
     "inputWidgets": {},
     "nuid": "dbf7b0df-2832-402b-b7be-ad6ae0bcf7df",
     "showTitle": true,
     "title": "DAY-3"
    }
   },
   "outputs": [
    {
     "output_type": "stream",
     "name": "stdout",
     "output_type": "stream",
     "text": [
      "1 2 3 4 5 6 7 8 9 10 "
     ]
    }
   ],
   "source": [
    "#Day 3\n",
    "\n",
    "#Program 1\n",
    "start = 1\n",
    "while(start <=10):  # loop throught 1 to 10\n",
    "    print(start,end=' ') #printing the natural number from 1 to 10\n",
    "    start += 1 #increamenting the start "
   ]
  },
  {
   "cell_type": "code",
   "execution_count": 0,
   "metadata": {
    "application/vnd.databricks.v1+cell": {
     "cellMetadata": {},
     "inputWidgets": {},
     "nuid": "3abd35d3-e081-453e-8901-c378049f7ac1",
     "showTitle": false,
     "title": ""
    }
   },
   "outputs": [],
   "source": [
    "#Program 2\n",
    "\n",
    "#Pattern is not given in the list"
   ]
  },
  {
   "cell_type": "code",
   "execution_count": 0,
   "metadata": {
    "application/vnd.databricks.v1+cell": {
     "cellMetadata": {
      "byteLimit": 2048000,
      "rowLimit": 10000
     },
     "inputWidgets": {},
     "nuid": "aebc2a7d-a78e-44de-9e3f-ee66a271e93f",
     "showTitle": false,
     "title": ""
    }
   },
   "outputs": [
    {
     "output_type": "display_data",
     "data": {
      "text/plain": [
       " 10"
      ]
     },
     "metadata": {},
     "output_type": "display_data"
    },
    {
     "output_type": "stream",
     "name": "stdout",
     "output_type": "stream",
     "text": [
      "55\n"
     ]
    }
   ],
   "source": [
    "#Program 3\n",
    "\n",
    "\n",
    "number = int(input()) #given number \n",
    "sum_num = 0 #sum counter \n",
    "for num in range(number+1): \n",
    "    sum_num += num  #adding the num to sum variable \n",
    "print(sum_num) #printing sum of number upto a given number"
   ]
  },
  {
   "cell_type": "code",
   "execution_count": 0,
   "metadata": {
    "application/vnd.databricks.v1+cell": {
     "cellMetadata": {
      "byteLimit": 2048000,
      "rowLimit": 10000
     },
     "inputWidgets": {},
     "nuid": "7ee267ca-068d-4d5d-b6c6-4843da5ab7e9",
     "showTitle": false,
     "title": ""
    }
   },
   "outputs": [
    {
     "output_type": "display_data",
     "data": {
      "text/plain": [
       " 5"
      ]
     },
     "metadata": {},
     "output_type": "display_data"
    },
    {
     "output_type": "stream",
     "name": "stdout",
     "output_type": "stream",
     "text": [
      "5 * 1 = 5\n5 * 2 = 10\n5 * 3 = 15\n5 * 4 = 20\n5 * 5 = 25\n5 * 6 = 30\n5 * 7 = 35\n5 * 8 = 40\n5 * 9 = 45\n5 * 10 = 50\n"
     ]
    }
   ],
   "source": [
    "#program 4\n",
    "\n",
    "given_num = int(input()) #given number input\n",
    "for num in range(1,11): \n",
    "    mult = given_num*num   #multiplication of given number to number from 1 to 10\n",
    "    print(given_num,'*',num,'=',mult)"
   ]
  },
  {
   "cell_type": "code",
   "execution_count": 0,
   "metadata": {
    "application/vnd.databricks.v1+cell": {
     "cellMetadata": {
      "byteLimit": 2048000,
      "rowLimit": 10000
     },
     "inputWidgets": {},
     "nuid": "b7fb645a-2b14-44c1-8951-2dc9163dc531",
     "showTitle": false,
     "title": ""
    }
   },
   "outputs": [
    {
     "output_type": "display_data",
     "data": {
      "text/plain": [
       " 12 23 4 5 2 3"
      ]
     },
     "metadata": {},
     "output_type": "display_data"
    },
    {
     "output_type": "stream",
     "name": "stdout",
     "output_type": "stream",
     "text": [
      "12\n23\n4\n5\n2\n3\n"
     ]
    }
   ],
   "source": [
    "#program 5\n",
    "\n",
    "lst = list(map(int,input().split()))  #user input list \n",
    "for num in lst: \n",
    "    print(num)  #printing the number/element in the list "
   ]
  },
  {
   "cell_type": "code",
   "execution_count": 0,
   "metadata": {
    "application/vnd.databricks.v1+cell": {
     "cellMetadata": {
      "byteLimit": 2048000,
      "rowLimit": 10000
     },
     "inputWidgets": {},
     "nuid": "7dc21fe1-9d0b-401d-b00f-4e5f6579d7f7",
     "showTitle": false,
     "title": ""
    }
   },
   "outputs": [
    {
     "output_type": "display_data",
     "data": {
      "text/plain": [
       " 231"
      ]
     },
     "metadata": {},
     "output_type": "display_data"
    },
    {
     "output_type": "stream",
     "name": "stdout",
     "output_type": "stream",
     "text": [
      "3\n"
     ]
    }
   ],
   "source": [
    "#program 6\n",
    "\n",
    "num = int(input()) #input number\n",
    "digit_cnt = 0    #digit counter\n",
    "while( num>0): \n",
    "    digit_cnt += 1 #increament the digit counter by 1\n",
    "    num = num//10      #dividing the num by 10 to count number of digits in number \n",
    "print(digit_cnt) #printing the count of digits in a number "
   ]
  },
  {
   "cell_type": "code",
   "execution_count": 0,
   "metadata": {
    "application/vnd.databricks.v1+cell": {
     "cellMetadata": {},
     "inputWidgets": {},
     "nuid": "b0211138-d11a-4fc8-98c5-2323db254ef8",
     "showTitle": false,
     "title": ""
    }
   },
   "outputs": [],
   "source": [
    "#Program 7\n",
    "#Pattern is not given in the list"
   ]
  },
  {
   "cell_type": "code",
   "execution_count": 0,
   "metadata": {
    "application/vnd.databricks.v1+cell": {
     "cellMetadata": {
      "byteLimit": 2048000,
      "rowLimit": 10000
     },
     "inputWidgets": {},
     "nuid": "9de5824a-e4ce-4099-93b2-f68603984f86",
     "showTitle": false,
     "title": ""
    }
   },
   "outputs": [
    {
     "output_type": "display_data",
     "data": {
      "text/plain": [
       " 1 2 3 4 5 6 7"
      ]
     },
     "metadata": {},
     "output_type": "display_data"
    },
    {
     "output_type": "stream",
     "name": "stdout",
     "output_type": "stream",
     "text": [
      "[7, 6, 5, 4, 3, 2, 1]\n"
     ]
    },
    {
     "output_type": "display_data",
     "data": {
      "text/plain": [
       " 1 2 3 4 5 6 7"
      ]
     },
     "metadata": {},
     "output_type": "display_data"
    },
    {
     "output_type": "stream",
     "name": "stdout",
     "output_type": "stream",
     "text": [
      "7 6 5 4 3 2 1 "
     ]
    }
   ],
   "source": [
    "#program 8\n",
    "\n",
    "\n",
    "lst = list(map(int, input().split())) #input list\n",
    "start = 0 #starting pointer  (first index of input list)\n",
    "end = len(lst)-1       #ending pointer  (last index of input list)\n",
    "while ( start < end): \n",
    "    lst[start], lst[end] = lst[end],lst[start] #swapping the start index element with the end element index\n",
    "    start += 1      #increamenting start\n",
    "    end -= 1        #decreamenting end\n",
    "print(lst) #printing list\n",
    "\n",
    "# printing the lst in reverse order using loop\n",
    "\n",
    "\n",
    "lst = list(map(int,input().split())) #user input list\n",
    "for num in range( len(lst)-1,-1,-1): #loop in reverse order\n",
    "    print ( lst[num] ,end = \" \") #printing the list in reverse order"
   ]
  },
  {
   "cell_type": "code",
   "execution_count": 0,
   "metadata": {
    "application/vnd.databricks.v1+cell": {
     "cellMetadata": {
      "byteLimit": 2048000,
      "rowLimit": 10000
     },
     "inputWidgets": {},
     "nuid": "f2a75305-894d-453d-a401-f1ecfa06c97c",
     "showTitle": false,
     "title": ""
    }
   },
   "outputs": [
    {
     "output_type": "stream",
     "name": "stdout",
     "output_type": "stream",
     "text": [
      "-10\n-9\n-8\n-7\n-6\n-5\n-4\n-3\n-2\n-1\n"
     ]
    }
   ],
   "source": [
    "#program 9\n",
    "\n",
    "\n",
    "for num in range(-10, 0):  #loop from -10 to -1 \n",
    "    print(num) #printing number"
   ]
  },
  {
   "cell_type": "code",
   "execution_count": 0,
   "metadata": {
    "application/vnd.databricks.v1+cell": {
     "cellMetadata": {
      "byteLimit": 2048000,
      "rowLimit": 10000
     },
     "inputWidgets": {},
     "nuid": "52a71b0b-ebf2-472a-97e5-5b658432ba55",
     "showTitle": false,
     "title": ""
    }
   },
   "outputs": [
    {
     "output_type": "display_data",
     "data": {
      "text/plain": [
       " 4"
      ]
     },
     "metadata": {},
     "output_type": "display_data"
    },
    {
     "output_type": "stream",
     "name": "stdout",
     "output_type": "stream",
     "text": [
      "0\n1\n2\n3\nDone!\n"
     ]
    }
   ],
   "source": [
    "#program 10\n",
    "\n",
    "\n",
    "number =int (input()) # input number \n",
    "for num in range(number): \n",
    "    print(num)     #execution of for loop\n",
    "else:\n",
    "    print('Done!') #after execution the else condition execute"
   ]
  },
  {
   "cell_type": "code",
   "execution_count": 0,
   "metadata": {
    "application/vnd.databricks.v1+cell": {
     "cellMetadata": {
      "byteLimit": 2048000,
      "rowLimit": 10000
     },
     "inputWidgets": {},
     "nuid": "01d8c9ac-d331-4fb1-aeaf-f015caf6d876",
     "showTitle": false,
     "title": ""
    }
   },
   "outputs": [
    {
     "output_type": "display_data",
     "data": {
      "text/plain": [
       " 1"
      ]
     },
     "metadata": {},
     "output_type": "display_data"
    },
    {
     "output_type": "display_data",
     "data": {
      "text/plain": [
       " 100"
      ]
     },
     "metadata": {},
     "output_type": "display_data"
    },
    {
     "output_type": "stream",
     "name": "stdout",
     "output_type": "stream",
     "text": [
      "2 3 5 7 11 13 17 19 23 29 31 37 41 43 47 53 59 61 67 71 73 79 83 89 97 "
     ]
    }
   ],
   "source": [
    "#program 11\n",
    "\n",
    "\n",
    "start_range = int(input()) #starting number\n",
    "end_range = int(input()) #ending number\n",
    "for num in range(start_range,end_range):\n",
    "    flag = 1\n",
    "    for n in range(2,num): #except one because one is divided by every number\n",
    "        if (num % n ==0): #condition for prime number\n",
    "            flag = 0\n",
    "            break  #out of the loop\n",
    "    \n",
    "    if ( flag == 1 and num >1): # prime number \n",
    "        print(num,end = ' ') #printing the prime number \n"
   ]
  },
  {
   "cell_type": "code",
   "execution_count": 0,
   "metadata": {
    "application/vnd.databricks.v1+cell": {
     "cellMetadata": {
      "byteLimit": 2048000,
      "rowLimit": 10000
     },
     "inputWidgets": {},
     "nuid": "3d090f51-596d-4390-ba1b-98057e4ca6ba",
     "showTitle": false,
     "title": ""
    }
   },
   "outputs": [
    {
     "output_type": "stream",
     "name": "stdout",
     "output_type": "stream",
     "text": [
      "0 1 1 2 3 5 8 13 21 34 "
     ]
    }
   ],
   "source": [
    "#program 12\n",
    "\n",
    "\n",
    "first = 0 #first number in fab\n",
    "second =  1 #second number in fab\n",
    "print(first,second,end =' ')\n",
    "for num in range(3,11):\n",
    "    \n",
    "    third = first +second #fab third is sum of last two number in fab\n",
    "    first = second #swapping the numbers\n",
    "    second = third\n",
    "    print(third,end = \" \") #printing numbers upto 10 in fabonacci series"
   ]
  },
  {
   "cell_type": "code",
   "execution_count": 0,
   "metadata": {
    "application/vnd.databricks.v1+cell": {
     "cellMetadata": {
      "byteLimit": 2048000,
      "rowLimit": 10000
     },
     "inputWidgets": {},
     "nuid": "8173368c-00c8-40b1-a497-45ce94cf642b",
     "showTitle": false,
     "title": ""
    }
   },
   "outputs": [
    {
     "output_type": "display_data",
     "data": {
      "text/plain": [
       " 5"
      ]
     },
     "metadata": {},
     "output_type": "display_data"
    },
    {
     "output_type": "stream",
     "name": "stdout",
     "output_type": "stream",
     "text": [
      "120\n"
     ]
    }
   ],
   "source": [
    "#program 13\n",
    "\n",
    "\n",
    "num = int(input()) #user input number\n",
    "fact_num  = 1 #variable for calculating factorial\n",
    "for ele in range(1,num+1):\n",
    "    fact_num = fact_num*ele #factorial of number = num*(num-1)*(num-2)..\n",
    "print(fact_num) #printing factorial"
   ]
  },
  {
   "cell_type": "code",
   "execution_count": 0,
   "metadata": {
    "application/vnd.databricks.v1+cell": {
     "cellMetadata": {
      "byteLimit": 2048000,
      "rowLimit": 10000
     },
     "inputWidgets": {},
     "nuid": "68156644-1000-4e78-bf9d-bf1b6fe2dc6f",
     "showTitle": false,
     "title": ""
    }
   },
   "outputs": [
    {
     "output_type": "display_data",
     "data": {
      "text/plain": [
       " 124"
      ]
     },
     "metadata": {},
     "output_type": "display_data"
    },
    {
     "output_type": "stream",
     "name": "stdout",
     "output_type": "stream",
     "text": [
      "421\n"
     ]
    }
   ],
   "source": [
    "#Program 14\n",
    "\n",
    "\n",
    "num = int(input()) #user input number\n",
    "temp = num  #temp for num\n",
    "rev= 0 #rev var\n",
    "while(temp>0):\n",
    "    rem = temp%10 #remender of number\n",
    "    rev = rev*10 +rem  # reversing of number\n",
    "    temp//= 10 #digit cnt \n",
    "print(rev) # printing rev"
   ]
  },
  {
   "cell_type": "code",
   "execution_count": 0,
   "metadata": {
    "application/vnd.databricks.v1+cell": {
     "cellMetadata": {
      "byteLimit": 2048000,
      "rowLimit": 10000
     },
     "inputWidgets": {},
     "nuid": "1ef6166f-67bc-4ea7-b59d-b426e2dc7a1a",
     "showTitle": false,
     "title": ""
    }
   },
   "outputs": [
    {
     "output_type": "display_data",
     "data": {
      "text/plain": [
       " 1 2 3 5 7 8"
      ]
     },
     "metadata": {},
     "output_type": "display_data"
    },
    {
     "output_type": "stream",
     "name": "stdout",
     "output_type": "stream",
     "text": [
      "2\n5\n8\n"
     ]
    }
   ],
   "source": [
    "#Program 15\n",
    "\n",
    "\n",
    "lst = list(map(int,input().split())) #user list input\n",
    "for ele in range(len(lst)):\n",
    "    if ele %2 != 0 : #odd indexing condition\n",
    "        print(lst[ele]) #printing ele at odd index"
   ]
  },
  {
   "cell_type": "code",
   "execution_count": 0,
   "metadata": {
    "application/vnd.databricks.v1+cell": {
     "cellMetadata": {
      "byteLimit": 2048000,
      "rowLimit": 10000
     },
     "inputWidgets": {},
     "nuid": "74a5d368-0fe6-426e-9ac7-29c12f06c8d9",
     "showTitle": false,
     "title": ""
    }
   },
   "outputs": [
    {
     "output_type": "display_data",
     "data": {
      "text/plain": [
       " 3"
      ]
     },
     "metadata": {},
     "output_type": "display_data"
    },
    {
     "output_type": "stream",
     "name": "stdout",
     "output_type": "stream",
     "text": [
      "1\n8\n27\n"
     ]
    }
   ],
   "source": [
    "#Program 16\n",
    "\n",
    "\n",
    "num = int(input()) #given number\n",
    "for ele in range(1,num+1): \n",
    "    print(pow(ele, 3)) #printing numbers cube upto given number"
   ]
  },
  {
   "cell_type": "code",
   "execution_count": 0,
   "metadata": {
    "application/vnd.databricks.v1+cell": {
     "cellMetadata": {
      "byteLimit": 2048000,
      "rowLimit": 10000
     },
     "inputWidgets": {},
     "nuid": "ef176279-aedc-417b-98e7-4e82b5104e94",
     "showTitle": false,
     "title": ""
    }
   },
   "outputs": [
    {
     "output_type": "display_data",
     "data": {
      "text/plain": [
       " 1 2 3 4 5 6 7 8"
      ]
     },
     "metadata": {},
     "output_type": "display_data"
    },
    {
     "output_type": "display_data",
     "data": {
      "text/plain": [
       " 6"
      ]
     },
     "metadata": {},
     "output_type": "display_data"
    },
    {
     "output_type": "stream",
     "name": "stdout",
     "output_type": "stream",
     "text": [
      "21\n"
     ]
    }
   ],
   "source": [
    "#Program 17\n",
    "\n",
    "\n",
    "input_series = list(map(int,input().split())) #user input series\n",
    "n_term = int(input())      #nth term input\n",
    "sum_n_term= input_series[0]    #first number to sum_n_terms\n",
    "\n",
    "for num in range(1,n_term):\n",
    "\n",
    "    sum_n_term += input_series[num] # calculating the sum upto n terms\n",
    "    \n",
    "print(sum_n_term) #printing sum of n terms"
   ]
  },
  {
   "cell_type": "code",
   "execution_count": 0,
   "metadata": {
    "application/vnd.databricks.v1+cell": {
     "cellMetadata": {
      "byteLimit": 2048000,
      "rowLimit": 10000
     },
     "inputWidgets": {},
     "nuid": "361c1dbd-f91c-4002-88e7-7bff102b0063",
     "showTitle": false,
     "title": ""
    }
   },
   "outputs": [
    {
     "output_type": "display_data",
     "data": {
      "text/plain": [
       " 5"
      ]
     },
     "metadata": {},
     "output_type": "display_data"
    },
    {
     "output_type": "stream",
     "name": "stdout",
     "output_type": "stream",
     "text": [
      "* \n* * \n* * * \n* * * * \n* * * * * \n* * * * \n* * * \n* * \n* \n"
     ]
    }
   ],
   "source": [
    "#Program 18\n",
    "\n",
    "\n",
    "num = int(input()) #user input\n",
    "row = 1 #row from 1\n",
    "while( row <= num):\n",
    "    star = 1  #star variable\n",
    "    while( star <= row):  \n",
    "        print('*',end= ' ')  #printing the first/ upper triangle\n",
    "        star += 1\n",
    "    print() #new line\n",
    "    row += 1\n",
    "row = 1\n",
    "while( row <= num-1):\n",
    "    star = 1  #star var\n",
    "    while( star <= num-row):\n",
    "        print('*',end= ' ') #printing the lower triangle\n",
    "        star += 1\n",
    "    print()\n",
    "    row += 1\n"
   ]
  },
  {
   "cell_type": "code",
   "execution_count": 0,
   "metadata": {
    "application/vnd.databricks.v1+cell": {
     "cellMetadata": {},
     "inputWidgets": {},
     "nuid": "2076eac9-bf82-416e-ae25-7dcaa43f8cb0",
     "showTitle": true,
     "title": "Day 4"
    }
   },
   "outputs": [],
   "source": [
    "#Day 4\n",
    "\n",
    "\n",
    "# Lambda Function and Functions\n"
   ]
  },
  {
   "cell_type": "code",
   "execution_count": 0,
   "metadata": {
    "application/vnd.databricks.v1+cell": {
     "cellMetadata": {
      "byteLimit": 2048000,
      "rowLimit": 10000
     },
     "inputWidgets": {},
     "nuid": "c7532969-cbd2-46a1-8aa1-6889d5243545",
     "showTitle": true,
     "title": "DAY-5"
    }
   },
   "outputs": [
    {
     "output_type": "display_data",
     "data": {
      "text/plain": [
       " 123"
      ]
     },
     "metadata": {},
     "output_type": "display_data"
    },
    {
     "output_type": "display_data",
     "data": {
      "text/plain": [
       " 15"
      ]
     },
     "metadata": {},
     "output_type": "display_data"
    },
    {
     "output_type": "stream",
     "name": "stdout",
     "output_type": "stream",
     "text": [
      "123 15\n"
     ]
    }
   ],
   "source": [
    "#Day 5\n",
    "#Program 1\n",
    "\n",
    "\n",
    "class Vehicle:  #class with name Vehicle\n",
    "    def __init__(self,max_speed, mileage): #constructor with max_speed and mileage\n",
    "        self.max_speed = max_speed\n",
    "        self.mileage = mileage\n",
    "max_speed = int(input()) #user input max speed\n",
    "mileage = int(input())  # user input mileage\n",
    "obj = Vehicle(max_speed, mileage)   #object of class Vehicle\n",
    "print(obj.max_speed, obj.mileage) #printing max speed and mileage"
   ]
  },
  {
   "cell_type": "code",
   "execution_count": 0,
   "metadata": {
    "application/vnd.databricks.v1+cell": {
     "cellMetadata": {},
     "inputWidgets": {},
     "nuid": "30f94cfd-da71-4e56-8da4-0aafe8e9b8af",
     "showTitle": false,
     "title": ""
    }
   },
   "outputs": [],
   "source": [
    "#Program 2 \n",
    "\n",
    "\n",
    "#Not given in the list"
   ]
  },
  {
   "cell_type": "code",
   "execution_count": 0,
   "metadata": {
    "application/vnd.databricks.v1+cell": {
     "cellMetadata": {
      "byteLimit": 2048000,
      "rowLimit": 10000
     },
     "inputWidgets": {},
     "nuid": "61e3eebd-fbd9-43c2-867e-5787d8dcf67d",
     "showTitle": false,
     "title": ""
    }
   },
   "outputs": [
    {
     "output_type": "stream",
     "name": "stdout",
     "output_type": "stream",
     "text": [
      "123\n13\nTATA 123 12\n"
     ]
    }
   ],
   "source": [
    "#Program 3\n",
    "\n",
    "\n",
    "\n",
    "class Vehicle: #Parent class name Vehicle\n",
    "    def __init__(self, max_speed, mileage):  # Parent class constructor\n",
    "        self.max_speed = max_speed \n",
    "        self.mileage = mileage\n",
    "class Run(Vehicle): #Child class named Run\n",
    "    pass\n",
    "child_obj = Run(123,13) #object of child class \n",
    "print(child_obj.max_speed)#print max_speed\n",
    "print(child_obj.mileage) #print mileage\n",
    "\n",
    "\n",
    "# Bus class\n",
    "\n",
    "class Vehicle:  #Parent class named Vehicle\n",
    "    def __init__(self, max_speed, mileage):  #Parent class constructor\n",
    "        self.max_speed = max_speed\n",
    "        self.mileage = mileage\n",
    "class Bus(Vehicle): #child class named Bus\n",
    "    name =  \"TATA\" #child class variable\n",
    "    pass \n",
    "\n",
    "child_obj = Bus(123,12)  # object of child class\n",
    "print(child_obj.name , child_obj.max_speed , child_obj.mileage) #printing name, max speed and mileage\n"
   ]
  },
  {
   "cell_type": "code",
   "execution_count": 0,
   "metadata": {
    "application/vnd.databricks.v1+cell": {
     "cellMetadata": {
      "byteLimit": 2048000,
      "rowLimit": 10000
     },
     "inputWidgets": {},
     "nuid": "00da8e96-9e42-4a3e-a247-788ad4ffb3c7",
     "showTitle": false,
     "title": ""
    }
   },
   "outputs": [
    {
     "output_type": "stream",
     "name": "stdout",
     "output_type": "stream",
     "text": [
      "Default capacity 50\n"
     ]
    }
   ],
   "source": [
    "#Program 4\n",
    "\n",
    "\n",
    "class Vehicle: #Parent class\n",
    "    def __init__(self, max_speed, mileage): #parent class constructor\n",
    "        self.max_speed = max_speed \n",
    "        self.mileage = mileage\n",
    "    def seat_capacity(self, capacity): #function seat_capacity \n",
    "        return 'Default capacity {}'.format(capacity) #printing the capacity of the bus\n",
    "class Bus(Vehicle): #child class\n",
    "    \n",
    "    def seat_capacity(self, capacity=50): #funcion seat_capacity with default value 50\n",
    "        return super().seat_capacity(capacity=50) #super to call the method (seat_capacity )of the Parent class\n",
    "\n",
    "child_obj = Bus(122,22) #max_speed and mileage\n",
    "print(child_obj.seat_capacity())  #printing the seat_capacity method \n",
    "\n",
    "\n"
   ]
  },
  {
   "cell_type": "code",
   "execution_count": 0,
   "metadata": {
    "application/vnd.databricks.v1+cell": {
     "cellMetadata": {
      "byteLimit": 2048000,
      "rowLimit": 10000
     },
     "inputWidgets": {},
     "nuid": "4b290774-05f7-4917-8b31-b4c1bfd01a85",
     "showTitle": false,
     "title": ""
    }
   },
   "outputs": [
    {
     "output_type": "stream",
     "name": "stdout",
     "output_type": "stream",
     "text": [
      "Bike color White Speed 180 Mileage 12\ncar color White Speed 240 Mileage 18\n"
     ]
    }
   ],
   "source": [
    "#Program 5\n",
    "\n",
    "\n",
    "class Vehicle: # parent class vehicle\n",
    "    color = \"White\"  #default color white\n",
    "    def __init__(self, max_speed, mileage): #constructor (parent)\n",
    "        self.max_speed =max_speed \n",
    "        self.mileage = mileage\n",
    "\n",
    "class Bike(Vehicle): #child class Bike \n",
    "    pass\n",
    "\n",
    "class Car(Vehicle): #child class car\n",
    "    pass\n",
    "\n",
    "bike_obj  = Bike(180, 12) #bike class obj\n",
    "print('Bike color' ,bike_obj.color, \"Speed\", bike_obj.max_speed, \"Mileage\", bike_obj.mileage) #default color of parent class Vehicle white\n",
    "car_obj = Car(240, 18)\n",
    "print('car color' ,car_obj.color,  \"Speed\", car_obj.max_speed, \"Mileage\", car_obj.mileage) #default color of parent class Vehicle white"
   ]
  },
  {
   "cell_type": "code",
   "execution_count": 0,
   "metadata": {
    "application/vnd.databricks.v1+cell": {
     "cellMetadata": {
      "byteLimit": 2048000,
      "rowLimit": 10000
     },
     "inputWidgets": {},
     "nuid": "29d325f7-32d2-4cb9-9f21-f8f46e142fe9",
     "showTitle": false,
     "title": ""
    }
   },
   "outputs": [
    {
     "output_type": "stream",
     "name": "stdout",
     "output_type": "stream",
     "text": [
      "Total Bus fare is: 5500\n"
     ]
    }
   ],
   "source": [
    "#Program 6\n",
    "\n",
    "\n",
    "class Vehicle: #parent class Vehicle\n",
    "    def __init__(self, mileage, capacity): #constructor\n",
    "        self.mileage = mileage\n",
    "        self.capacity = capacity\n",
    "\n",
    "    def fare(self): #class method\n",
    "        return self.capacity * 100\n",
    "\n",
    "class Bus(Vehicle): #child class Bus\n",
    "    def fare(self): #override method\n",
    "        total_fare = super().fare()  #taking the fare method from parent using super\n",
    "        total_fare += total_fare * (10/100) #calculation for total fare\n",
    "        return int(total_fare)\n",
    "\n",
    "bus_obj = Bus( 12, 50) #bus obj (child)\n",
    "print(\"Total Bus fare is:\", bus_obj.fare()) #printing total fare of the bus"
   ]
  },
  {
   "cell_type": "code",
   "execution_count": 0,
   "metadata": {
    "application/vnd.databricks.v1+cell": {
     "cellMetadata": {
      "byteLimit": 2048000,
      "rowLimit": 10000
     },
     "inputWidgets": {},
     "nuid": "77115c8e-82c2-4e6d-8da9-c62b61fffe86",
     "showTitle": false,
     "title": ""
    }
   },
   "outputs": [
    {
     "output_type": "stream",
     "name": "stdout",
     "output_type": "stream",
     "text": [
      "<class '__main__.Bus'>\n"
     ]
    }
   ],
   "source": [
    "#Program 7\n",
    "\n",
    "class Vehicle: #Parent class Vehicle\n",
    "    def __init__(self, name,mileage, capacity): #Parent Constructor\n",
    "        self.name = name\n",
    "        self.mileage = mileage\n",
    "        self.capacity = capacity\n",
    "class Bus(Vehicle): #child class\n",
    "    pass\n",
    "School_bus = Bus(\"School Volvo\" ,12, 50) #object of child class Bus\n",
    "print(type(School_bus)) #gives the type of School_bus class object\n",
    "#School_bus is object type of Bus and Bus class belongs to Vehicle class\n"
   ]
  },
  {
   "cell_type": "code",
   "execution_count": 0,
   "metadata": {
    "application/vnd.databricks.v1+cell": {
     "cellMetadata": {
      "byteLimit": 2048000,
      "rowLimit": 10000
     },
     "inputWidgets": {},
     "nuid": "7f14d311-9652-4fa0-9709-2ab52a872ab7",
     "showTitle": false,
     "title": ""
    }
   },
   "outputs": [
    {
     "output_type": "stream",
     "name": "stdout",
     "output_type": "stream",
     "text": [
      "True\n"
     ]
    }
   ],
   "source": [
    "#Program 8\n",
    "\n",
    "class Vehicle: #Parent class \n",
    "    def __init__(self, name, mileage, capacity): #constractor\n",
    "        self.name = name\n",
    "        self.mileage = mileage\n",
    "        self.capacity = capacity\n",
    "\n",
    "class Bus(Vehicle): #child class\n",
    "    pass\n",
    "\n",
    "School_bus = Bus(\"School Volvo\", 12, 50) #object of child class ( Bus)\n",
    "print(isinstance(School_bus, Vehicle)) #isinstance function to check if School_bus is instance of Vehicle or not  \n",
    "# in this case it return true"
   ]
  },
  {
   "cell_type": "code",
   "execution_count": 0,
   "metadata": {
    "application/vnd.databricks.v1+cell": {
     "cellMetadata": {},
     "inputWidgets": {},
     "nuid": "a79c924e-c367-4555-89b3-cbfd34ffefd6",
     "showTitle": true,
     "title": "Day 6"
    }
   },
   "outputs": [],
   "source": [
    "#Day 6\n",
    "\n",
    "#File handling"
   ]
  },
  {
   "cell_type": "code",
   "execution_count": 0,
   "metadata": {
    "application/vnd.databricks.v1+cell": {
     "cellMetadata": {},
     "inputWidgets": {},
     "nuid": "3d0889ea-4d5b-4c15-ab80-f59a42e1c521",
     "showTitle": true,
     "title": "Day 7"
    }
   },
   "outputs": [],
   "source": [
    "#Day 7\n",
    "\n",
    "#Logging in python #regex # unit test in python"
   ]
  }
 ],
 "metadata": {
  "application/vnd.databricks.v1+notebook": {
   "dashboards": [],
   "language": "python",
   "notebookMetadata": {
    "pythonIndentUnit": 4
   },
   "notebookName": "BHUPENDRA_VAISHNAV_PIET_WEEK-1",
   "widgets": {}
  }
 },
 "nbformat": 4,
 "nbformat_minor": 0
}
